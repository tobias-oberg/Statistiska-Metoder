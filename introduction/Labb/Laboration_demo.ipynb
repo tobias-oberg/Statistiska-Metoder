{
 "cells": [
  {
   "cell_type": "code",
   "execution_count": 1,
   "metadata": {},
   "outputs": [],
   "source": [
    "import pandas as pd\n",
    "import numpy as np\n",
    "import scipy.stats as stats\n",
    "\n",
    "from Laboration import LinearRegression\n",
    "\n",
    "Data = pd.read_csv(\"Small-diameter-flow.csv\", index_col=0)\n",
    "\n",
    "Y = Data[\"Flow\"]\n",
    "X = Data[[\"Kinematic\", \"Geometric\", \"Inertial\",\"Observer\"]]\n",
    "\n",
    "LR = LinearRegression(Y,X)"
   ]
  },
  {
   "cell_type": "code",
   "execution_count": 2,
   "metadata": {},
   "outputs": [
    {
     "name": "stdout",
     "output_type": "stream",
     "text": [
      "Number of features: 4\n",
      "Sample size: 198\n",
      "The variance is: 0.006272292538356666\n",
      "The standard deviation is: 0.07919780639864128\n",
      "The significance is: 2.197604317692611e-244\n",
      "The relevance is: 0.9971526073276518\n",
      "The individual significance is: [5.730580151465605e-236, 0.0, 1.1628066959544189e-241, 2.342241110726247e-44]\n"
     ]
    }
   ],
   "source": [
    "print(f\"Number of features:\",LR.d)\n",
    "print(f\"Sample size:\",LR.n)\n",
    "print(f\"The variance is:\",LR.calc_variance())\n",
    "print(f\"The standard deviation is:\",LR.calc_std())\n",
    "print(f\"The significance is:\",LR.significance_regression())\n",
    "print(f\"The relevance is:\",LR.relevance_regression())\n",
    "print(f\"The individual significance is:\",LR.individual_significance())\n",
    "\n"
   ]
  },
  {
   "cell_type": "code",
   "execution_count": 3,
   "metadata": {},
   "outputs": [
    {
     "name": "stdout",
     "output_type": "stream",
     "text": [
      "Confidence interval for Kinematic: [0.88157 +- 0.85844]\n",
      "Confidence interval for Geometric: [3.61104 +- 3.59526]\n",
      "Confidence interval for Inertial: [-0.74255 +- -0.76122]\n",
      "Confidence interval for Observer: [0.01964 +- 0.01412]\n"
     ]
    }
   ],
   "source": [
    "for name, low, high in LR.confidence_intervals():\n",
    "    print(f\"Confidence interval for {name}: [{low:.5f} +- {high:.5f}]\")"
   ]
  },
  {
   "cell_type": "code",
   "execution_count": 4,
   "metadata": {},
   "outputs": [
    {
     "name": "stdout",
     "output_type": "stream",
     "text": [
      "Pearson Correlation Coefficients between pairs:\n",
      "\n",
      "Kinematic and Geometric: 0.8631350761065918\n",
      "Kinematic and Inertial: 0.9686707504997814\n",
      "Kinematic and Observer: 0.10322658943843983\n",
      "Geometric and Inertial: 0.9183300308547001\n",
      "Geometric and Observer: 0.17519913369993184\n",
      "Inertial and Observer: 0.12198107336291035\n"
     ]
    }
   ],
   "source": [
    "print(\"Pearson Correlation Coefficients between pairs:\\n\")\n",
    "for i, j, x in LR.Pearson():\n",
    "    print(f\"{LR.column_names[i-1]} and {LR.column_names[j-1]}: {x}\")"
   ]
  },
  {
   "cell_type": "code",
   "execution_count": 5,
   "metadata": {},
   "outputs": [
    {
     "name": "stdout",
     "output_type": "stream",
     "text": [
      "('Observer', 2.342241110726247e-44)\n"
     ]
    }
   ],
   "source": [
    "print(LR.observer_bias(\"Observer\"))"
   ]
  },
  {
   "cell_type": "markdown",
   "metadata": {},
   "source": [
    "### Is there an observer bias in the data collected for the small-diameter flow measurements?\n",
    "\n",
    "Yes. The p-value is < 0.05 and that means that our result is statistically significant. It indicates that there is some kind of observer-bias. However, this does not fully confirm that there is an observer-bias. This is the case because, for example, there is no way of telling how the tests where done by just reading the data. "
   ]
  }
 ],
 "metadata": {
  "kernelspec": {
   "display_name": ".venv",
   "language": "python",
   "name": "python3"
  },
  "language_info": {
   "codemirror_mode": {
    "name": "ipython",
    "version": 3
   },
   "file_extension": ".py",
   "mimetype": "text/x-python",
   "name": "python",
   "nbconvert_exporter": "python",
   "pygments_lexer": "ipython3",
   "version": "3.12.5"
  }
 },
 "nbformat": 4,
 "nbformat_minor": 2
}
