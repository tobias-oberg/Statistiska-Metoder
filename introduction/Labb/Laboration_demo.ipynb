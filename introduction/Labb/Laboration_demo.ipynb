{
 "cells": [
  {
   "cell_type": "code",
   "execution_count": 1,
   "metadata": {},
   "outputs": [
    {
     "name": "stderr",
     "output_type": "stream",
     "text": [
      "c:\\Code\\Statistiska-Metoder\\introduction\\Labb\\Laboration.py:86: RuntimeWarning: invalid value encountered in sqrt\n",
      "  ci = (self.b[1], 2*np.sqrt(se_b))\n",
      "c:\\Code\\.venv\\Lib\\site-packages\\scipy\\stats\\_stats_py.py:4781: ConstantInputWarning: An input array is constant; the correlation coefficient is not defined.\n",
      "  warnings.warn(stats.ConstantInputWarning(msg))\n"
     ]
    }
   ],
   "source": [
    "import pandas as pd\n",
    "import numpy as np\n",
    "import scipy.stats as stats\n",
    "\n",
    "from Laboration import LinearRegression\n",
    "\n",
    "# Load the data\n",
    "Data = pd.read_csv(\"Small-diameter-flow.csv\", index_col=0)\n",
    "\n",
    "\n",
    "Y = Data[\"Flow\"].values\n",
    "X = Data[[\"Kinematic\", \"Geometric\", \"Inertial\"]].values\n",
    "\n",
    "# Create the LinearRegression object\n",
    "LR = LinearRegression(Y,X)\n",
    "LR.fit()\n",
    "\n",
    "d = LR.d\n",
    "n = LR.n\n",
    "\n",
    "variance = LR.calc_variance()\n",
    "\n",
    "standard_deviation = LR.calc_std()\n",
    "\n",
    "p_significance = LR.significance_regression()\n",
    "\n",
    "relevance = LR.relevance_regression()\n",
    "\n",
    "individual_significance = LR.individual_significance()\n",
    "\n",
    "ci = LR.confidence_intervals()\n",
    "\n",
    "pearson = LR.Pearson()\n",
    "\n",
    "\n"
   ]
  },
  {
   "cell_type": "code",
   "execution_count": 2,
   "metadata": {},
   "outputs": [
    {
     "name": "stdout",
     "output_type": "stream",
     "text": [
      "Number of features: 3\n",
      "Sample size: 198\n",
      "The variance is: 0.006308685487583496\n",
      "The standard deviation is: 0.07942723391622987\n",
      "The significance is: 7.998510998158303e-141\n",
      "The relevance is: 0.997121247321077\n",
      "The individual significance is: [2.2799778946075336e-236, 0.0, 1.919283112568702e-242]\n",
      "Pearson number: [(1, 2, PearsonRResult(statistic=nan, pvalue=nan)), (1, 3, PearsonRResult(statistic=nan, pvalue=nan)), (2, 3, PearsonRResult(statistic=0.8631350761065918, pvalue=4.5604633624399433e-60))]\n",
      "The confidence interval on predictor Beta1: 0.8687 +- nan\n"
     ]
    }
   ],
   "source": [
    "print(f\"Number of features:\",d)\n",
    "print(f\"Sample size:\",n)\n",
    "print(f\"The variance is:\",variance)\n",
    "print(f\"The standard deviation is:\",standard_deviation)\n",
    "print(f\"The significance is:\",p_significance)\n",
    "print(f\"The relevance is:\",relevance)\n",
    "print(f\"The individual significance is:\",individual_significance)\n",
    "print(f\"Pearson number:\",pearson)\n",
    "print(f\"The confidence interval on predictor Beta1: {ci[0]:.4f} +- {ci[1]:.4f}\")\n"
   ]
  },
  {
   "cell_type": "markdown",
   "metadata": {},
   "source": [
    "### Is there an observer bias in the data collected for the small-diameter flow measurements?"
   ]
  },
  {
   "cell_type": "code",
   "execution_count": 3,
   "metadata": {},
   "outputs": [
    {
     "name": "stdout",
     "output_type": "stream",
     "text": [
      "Pearson Correlation Coefficients Between Column Pairs:\n",
      "\n",
      "  - Between column 1 and column 2: PearsonRResult(statistic=nan, pvalue=nan)\n",
      "  - Between column 1 and column 3: PearsonRResult(statistic=nan, pvalue=nan)\n",
      "  - Between column 2 and column 3: PearsonRResult(statistic=0.8631350761065918, pvalue=4.5604633624399433e-60)\n"
     ]
    }
   ],
   "source": [
    "print(\"Pearson Correlation Coefficients Between Column Pairs:\\n\")\n",
    "for i, j, x in pearson:\n",
    "    print(f\"  - Between column {i} and column {j}: {x}\")"
   ]
  }
 ],
 "metadata": {
  "kernelspec": {
   "display_name": ".venv",
   "language": "python",
   "name": "python3"
  },
  "language_info": {
   "codemirror_mode": {
    "name": "ipython",
    "version": 3
   },
   "file_extension": ".py",
   "mimetype": "text/x-python",
   "name": "python",
   "nbconvert_exporter": "python",
   "pygments_lexer": "ipython3",
   "version": "3.12.5"
  }
 },
 "nbformat": 4,
 "nbformat_minor": 2
}
