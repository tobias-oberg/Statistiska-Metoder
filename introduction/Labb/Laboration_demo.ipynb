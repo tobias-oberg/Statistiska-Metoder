{
 "cells": [
  {
   "cell_type": "code",
   "execution_count": 1,
   "metadata": {},
   "outputs": [],
   "source": [
    "import pandas as pd\n",
    "import numpy as np\n",
    "import scipy.stats as stats\n",
    "\n",
    "from Laboration import LinearRegression\n",
    "\n",
    "# Load the data\n",
    "Data = pd.read_csv(\"Small-diameter-flow.csv\", index_col=0)\n",
    "\n",
    "\n",
    "Y = Data[\"Flow\"].values\n",
    "X = Data[[\"Kinematic\", \"Geometric\", \"Inertial\"]].values\n",
    "\n",
    "# Create the LinearRegression object\n",
    "LR = LinearRegression(Y,X)\n",
    "LR.fit()\n",
    "variance = LR.calc_variance()\n",
    "\n",
    "standard_deviation = LR.calc_std()\n",
    "\n",
    "significance = LR.significance_regression()\n",
    "\n",
    "relevance = LR.relevance_regression()\n",
    "\n",
    "individual_significance = LR.individual_significance()\n",
    "\n",
    "\n",
    "\n",
    "\n",
    "\n"
   ]
  },
  {
   "cell_type": "code",
   "execution_count": 2,
   "metadata": {},
   "outputs": [
    {
     "name": "stdout",
     "output_type": "stream",
     "text": [
      "2.147192894051545\n"
     ]
    }
   ],
   "source": [
    "print(variance)"
   ]
  },
  {
   "cell_type": "code",
   "execution_count": 3,
   "metadata": {},
   "outputs": [
    {
     "name": "stdout",
     "output_type": "stream",
     "text": [
      "1.4653303020314379\n"
     ]
    }
   ],
   "source": [
    "print(standard_deviation)"
   ]
  },
  {
   "cell_type": "code",
   "execution_count": 4,
   "metadata": {},
   "outputs": [
    {
     "name": "stdout",
     "output_type": "stream",
     "text": [
      "3.0569060987326117e-38\n"
     ]
    }
   ],
   "source": [
    "print(significance)"
   ]
  },
  {
   "cell_type": "code",
   "execution_count": 5,
   "metadata": {},
   "outputs": [
    {
     "name": "stdout",
     "output_type": "stream",
     "text": [
      "(0.997121247321077,)\n"
     ]
    }
   ],
   "source": [
    "print(relevance)"
   ]
  },
  {
   "cell_type": "code",
   "execution_count": 6,
   "metadata": {},
   "outputs": [
    {
     "name": "stdout",
     "output_type": "stream",
     "text": [
      "0.4790109595963088\n"
     ]
    }
   ],
   "source": [
    "print(individual_significance)"
   ]
  }
 ],
 "metadata": {
  "kernelspec": {
   "display_name": ".venv",
   "language": "python",
   "name": "python3"
  },
  "language_info": {
   "codemirror_mode": {
    "name": "ipython",
    "version": 3
   },
   "file_extension": ".py",
   "mimetype": "text/x-python",
   "name": "python",
   "nbconvert_exporter": "python",
   "pygments_lexer": "ipython3",
   "version": "3.12.5"
  }
 },
 "nbformat": 4,
 "nbformat_minor": 2
}
