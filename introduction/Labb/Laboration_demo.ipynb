{
 "cells": [
  {
   "cell_type": "code",
   "execution_count": 1,
   "metadata": {},
   "outputs": [
    {
     "name": "stderr",
     "output_type": "stream",
     "text": [
      "c:\\Code\\Statistiska-Metoder\\introduction\\Labb\\Laboration.py:75: RuntimeWarning: invalid value encountered in sqrt\n",
      "  ci = (self.b[1], 2*np.sqrt(se_b))\n"
     ]
    }
   ],
   "source": [
    "import pandas as pd\n",
    "import numpy as np\n",
    "import scipy.stats as stats\n",
    "\n",
    "from Laboration import LinearRegression\n",
    "\n",
    "# Load the data\n",
    "Data = pd.read_csv(\"Small-diameter-flow.csv\", index_col=0)\n",
    "\n",
    "\n",
    "Y = Data[\"Flow\"].values\n",
    "X = Data[[\"Kinematic\", \"Geometric\", \"Inertial\"]].values\n",
    "\n",
    "# Create the LinearRegression object\n",
    "LR = LinearRegression(Y,X)\n",
    "LR.fit()\n",
    "variance = LR.calc_variance()\n",
    "\n",
    "standard_deviation = LR.calc_std()\n",
    "\n",
    "p_significance = LR.significance_regression()\n",
    "\n",
    "relevance = LR.relevance_regression()\n",
    "\n",
    "individual_significance = LR.individual_significance()\n",
    "\n",
    "ci = LR.confidence_intervals()\n",
    "\n",
    "pearson = LR.Pearson()\n",
    "\n"
   ]
  },
  {
   "cell_type": "code",
   "execution_count": 2,
   "metadata": {},
   "outputs": [
    {
     "name": "stdout",
     "output_type": "stream",
     "text": [
      "The variance is: 0.006308685487583496\n",
      "The standard deviation is: 0.07942723391622987\n",
      "The significance is: 7.998510998158303e-141\n",
      "The relevance is: 0.997121247321077\n",
      "The individual significance is: 2.2799778946075336e-236\n",
      "The confidence interval on predictor Beta1: 0.8687 +- nan\n",
      "Pearson number: PearsonRResult(statistic=0.8631350761065918, pvalue=4.5604633624399433e-60)\n"
     ]
    }
   ],
   "source": [
    "print(f\"The variance is:\",variance)\n",
    "print(f\"The standard deviation is:\",standard_deviation)\n",
    "print(f\"The significance is:\",p_significance)\n",
    "print(f\"The relevance is:\",relevance)\n",
    "print(f\"The individual significance is:\",individual_significance)\n",
    "print(f\"The confidence interval on predictor Beta1: {ci[0]:.4f} +- {ci[1]:.4f}\")\n",
    "print(f\"Pearson number:\",pearson)"
   ]
  },
  {
   "cell_type": "code",
   "execution_count": 3,
   "metadata": {},
   "outputs": [
    {
     "data": {
      "text/html": [
       "<div>\n",
       "<style scoped>\n",
       "    .dataframe tbody tr th:only-of-type {\n",
       "        vertical-align: middle;\n",
       "    }\n",
       "\n",
       "    .dataframe tbody tr th {\n",
       "        vertical-align: top;\n",
       "    }\n",
       "\n",
       "    .dataframe thead th {\n",
       "        text-align: right;\n",
       "    }\n",
       "</style>\n",
       "<table border=\"1\" class=\"dataframe\">\n",
       "  <thead>\n",
       "    <tr style=\"text-align: right;\">\n",
       "      <th></th>\n",
       "      <th>Flow</th>\n",
       "      <th>Kinematic</th>\n",
       "      <th>Geometric</th>\n",
       "      <th>Inertial</th>\n",
       "      <th>Observer</th>\n",
       "    </tr>\n",
       "  </thead>\n",
       "  <tbody>\n",
       "    <tr>\n",
       "      <th>Flow</th>\n",
       "      <td>1.000000</td>\n",
       "      <td>0.863403</td>\n",
       "      <td>0.995794</td>\n",
       "      <td>0.903310</td>\n",
       "      <td>0.181490</td>\n",
       "    </tr>\n",
       "    <tr>\n",
       "      <th>Kinematic</th>\n",
       "      <td>0.863403</td>\n",
       "      <td>1.000000</td>\n",
       "      <td>0.863135</td>\n",
       "      <td>0.968671</td>\n",
       "      <td>0.103227</td>\n",
       "    </tr>\n",
       "    <tr>\n",
       "      <th>Geometric</th>\n",
       "      <td>0.995794</td>\n",
       "      <td>0.863135</td>\n",
       "      <td>1.000000</td>\n",
       "      <td>0.918330</td>\n",
       "      <td>0.175199</td>\n",
       "    </tr>\n",
       "    <tr>\n",
       "      <th>Inertial</th>\n",
       "      <td>0.903310</td>\n",
       "      <td>0.968671</td>\n",
       "      <td>0.918330</td>\n",
       "      <td>1.000000</td>\n",
       "      <td>0.121981</td>\n",
       "    </tr>\n",
       "    <tr>\n",
       "      <th>Observer</th>\n",
       "      <td>0.181490</td>\n",
       "      <td>0.103227</td>\n",
       "      <td>0.175199</td>\n",
       "      <td>0.121981</td>\n",
       "      <td>1.000000</td>\n",
       "    </tr>\n",
       "  </tbody>\n",
       "</table>\n",
       "</div>"
      ],
      "text/plain": [
       "               Flow  Kinematic  Geometric  Inertial  Observer\n",
       "Flow       1.000000   0.863403   0.995794  0.903310  0.181490\n",
       "Kinematic  0.863403   1.000000   0.863135  0.968671  0.103227\n",
       "Geometric  0.995794   0.863135   1.000000  0.918330  0.175199\n",
       "Inertial   0.903310   0.968671   0.918330  1.000000  0.121981\n",
       "Observer   0.181490   0.103227   0.175199  0.121981  1.000000"
      ]
     },
     "execution_count": 3,
     "metadata": {},
     "output_type": "execute_result"
    }
   ],
   "source": [
    "Data.corr()"
   ]
  },
  {
   "cell_type": "code",
   "execution_count": 4,
   "metadata": {},
   "outputs": [
    {
     "data": {
      "text/plain": [
       "array([[<Axes: title={'center': 'Flow'}>,\n",
       "        <Axes: title={'center': 'Kinematic'}>],\n",
       "       [<Axes: title={'center': 'Geometric'}>,\n",
       "        <Axes: title={'center': 'Inertial'}>],\n",
       "       [<Axes: title={'center': 'Observer'}>, <Axes: >]], dtype=object)"
      ]
     },
     "execution_count": 4,
     "metadata": {},
     "output_type": "execute_result"
    },
    {
     "data": {
      "image/png": "[encoded data removed]",
      "text/plain": [
       "<Figure size 640x480 with 6 Axes>"
      ]
     },
     "metadata": {},
     "output_type": "display_data"
    }
   ],
   "source": [
    "Data.hist(cumulative=True)"
   ]
  },
  {
   "cell_type": "code",
   "execution_count": 8,
   "metadata": {},
   "outputs": [
    {
     "data": {
      "text/plain": [
       "Flow         1.465330\n",
       "Kinematic    0.484474\n",
       "Geometric    0.450360\n",
       "Inertial     0.765873\n",
       "Observer     0.496313\n",
       "dtype: float64"
      ]
     },
     "execution_count": 8,
     "metadata": {},
     "output_type": "execute_result"
    }
   ],
   "source": [
    "std = np.std(Data)\n",
    "std"
   ]
  }
 ],
 "metadata": {
  "kernelspec": {
   "display_name": ".venv",
   "language": "python",
   "name": "python3"
  },
  "language_info": {
   "codemirror_mode": {
    "name": "ipython",
    "version": 3
   },
   "file_extension": ".py",
   "mimetype": "text/x-python",
   "name": "python",
   "nbconvert_exporter": "python",
   "pygments_lexer": "ipython3",
   "version": "3.12.5"
  }
 },
 "nbformat": 4,
 "nbformat_minor": 2
}
