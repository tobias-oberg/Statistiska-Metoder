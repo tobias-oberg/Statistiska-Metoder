{
 "cells": [
  {
   "cell_type": "code",
   "execution_count": 3,
   "metadata": {},
   "outputs": [],
   "source": [
    "import pandas as pd\n",
    "import numpy as np\n",
    "import scipy.stats as stats\n",
    "\n",
    "from Laboration import LinearRegression\n",
    "\n",
    "# Load the data\n",
    "Data = pd.read_csv(\"Small-diameter-flow.csv\", index_col=0)\n",
    "\n",
    "\n",
    "Y = Data[\"Flow\"].values\n",
    "X = Data[[\"Kinematic\", \"Geometric\", \"Inertial\",\"Observer\"]].values\n",
    "\n",
    "# Create the LinearRegression object\n",
    "LR = LinearRegression(Y,X,[\"Kinematic\", \"Geometric\", \"Inertial\",\"Observer\"])\n",
    "LR.fit()\n",
    "\n",
    "d = LR.d\n",
    "n = LR.n\n",
    "\n",
    "variance = LR.calc_variance()\n",
    "\n",
    "standard_deviation = LR.calc_std()\n",
    "\n",
    "p_significance = LR.significance_regression()\n",
    "\n",
    "relevance = LR.relevance_regression()\n",
    "\n",
    "individual_significance = LR.individual_significance()\n",
    "\n",
    "ci = LR.confidence_intervals()\n",
    "\n",
    "pearson = LR.Pearson()\n",
    "\n",
    "\n",
    "\n",
    "\n"
   ]
  },
  {
   "cell_type": "code",
   "execution_count": 7,
   "metadata": {},
   "outputs": [
    {
     "name": "stdout",
     "output_type": "stream",
     "text": [
      "Number of features: 4\n",
      "Sample size: 198\n",
      "The variance is: 0.006272292538356666\n",
      "The standard deviation is: 0.07919780639864128\n",
      "The significance is: 1.726518234856186e-139\n",
      "The relevance is: 0.9971526073276518\n",
      "The individual significance is: [5.730580151465605e-236, 0.0, 1.1628066959544189e-241, 2.342241110726247e-44]\n"
     ]
    }
   ],
   "source": [
    "print(f\"Number of features:\",d)\n",
    "print(f\"Sample size:\",n)\n",
    "print(f\"The variance is:\",variance)\n",
    "print(f\"The standard deviation is:\",standard_deviation)\n",
    "print(f\"The significance is:\",p_significance)\n",
    "print(f\"The relevance is:\",relevance)\n",
    "print(f\"The individual significance is:\",individual_significance)\n",
    "\n"
   ]
  },
  {
   "cell_type": "code",
   "execution_count": 8,
   "metadata": {},
   "outputs": [
    {
     "name": "stdout",
     "output_type": "stream",
     "text": [
      "Confidence interval for Intercept: [-3.4156, -1.7520]\n",
      "Confidence interval for Kinematic: [0.7742, 0.9658]\n",
      "Confidence interval for Geometric: [3.5378, 3.6685]\n",
      "Confidence interval for Inertial: [-0.8292, -0.6745]\n",
      "Confidence interval for Observer: [-0.0060, 0.0397]\n"
     ]
    }
   ],
   "source": [
    "for name, low, high in LR.confidence_intervals():\n",
    "    print(f\"Confidence interval for {name}: [{low:.4f}, {high:.4f}]\")"
   ]
  },
  {
   "cell_type": "code",
   "execution_count": 6,
   "metadata": {},
   "outputs": [
    {
     "name": "stdout",
     "output_type": "stream",
     "text": [
      "Pearson Correlation Coefficients between pairs:\n",
      "\n",
      "Intercept and Kinematic: 0.8631350761065918\n",
      "Intercept and Geometric: 0.9686707504997814\n",
      "Intercept and Inertial: 0.10322658943843983\n",
      "Kinematic and Geometric: 0.9183300308547001\n",
      "Kinematic and Inertial: 0.17519913369993184\n",
      "Geometric and Inertial: 0.12198107336291035\n"
     ]
    }
   ],
   "source": [
    "print(\"Pearson Correlation Coefficients between pairs:\\n\")\n",
    "for i, j, x in pearson:\n",
    "    print(f\"{LR.column_names[i-1]} and {LR.column_names[j-1]}: {x}\")"
   ]
  },
  {
   "cell_type": "markdown",
   "metadata": {},
   "source": [
    "### Is there an observer bias in the data collected for the small-diameter flow measurements?"
   ]
  }
 ],
 "metadata": {
  "kernelspec": {
   "display_name": ".venv",
   "language": "python",
   "name": "python3"
  },
  "language_info": {
   "codemirror_mode": {
    "name": "ipython",
    "version": 3
   },
   "file_extension": ".py",
   "mimetype": "text/x-python",
   "name": "python",
   "nbconvert_exporter": "python",
   "pygments_lexer": "ipython3",
   "version": "3.12.5"
  }
 },
 "nbformat": 4,
 "nbformat_minor": 2
}
